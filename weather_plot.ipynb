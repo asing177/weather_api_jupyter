{
 "cells": [
  {
   "cell_type": "code",
   "execution_count": null,
   "metadata": {},
   "outputs": [],
   "source": [
    "import pandas\n",
    "import matplotlib as mpl\n",
    "import matplotlib.pyplot as plt\n",
    "%matplotlib inline"
   ]
  },
  {
   "cell_type": "code",
   "execution_count": null,
   "metadata": {},
   "outputs": [],
   "source": [
    "import time, uuid\n",
    "import urllib.request as urllib2\n",
    "from urllib.parse import urlencode, quote_plus\n",
    "import hmac, hashlib\n",
    "from base64 import b64encode\n",
    "\n",
    "\"\"\"\n",
    "Basic info\n",
    "\"\"\"\n",
    "url = 'https://weather-ydn-yql.media.yahoo.com/forecastrss'\n",
    "method = 'GET'\n",
    "app_id = '3MXjoxHU'\n",
    "consumer_key = 'dj0yJmk9dzlEWFAya0szeEJ1JmQ9WVdrOU0wMVlhbTk0U0ZVbWNHbzlNQT09JnM9Y29uc3VtZXJzZWNyZXQmc3Y9MCZ4PWJh'\n",
    "consumer_secret = '78a8cb75835bf437ef763361cf745b20d3b7510b'\n",
    "concat = '&'\n",
    "query = {'location': 'sunnyvale,ca', 'format': 'json'}\n",
    "oauth = {\n",
    "    'oauth_consumer_key': consumer_key,\n",
    "    'oauth_nonce': uuid.uuid4().hex,\n",
    "    'oauth_signature_method': 'HMAC-SHA1',\n",
    "    'oauth_timestamp': str(int(time.time())),\n",
    "    'oauth_version': '1.0'\n",
    "}\n",
    "\n",
    "\"\"\"\n",
    "Prepare signature string (merge all params and SORT them)\n",
    "\"\"\"\n",
    "merged_params = query.copy()\n",
    "merged_params.update(oauth)\n",
    "sorted_params = [k + '=' + urllib2.quote(merged_params[k], safe='') for k in sorted(merged_params.keys())]\n",
    "signature_base_str =  method + concat + urllib2.quote(url, safe='') + concat + urllib2.quote(concat.join(sorted_params), safe='')\n",
    "\n",
    "\n",
    "\"\"\"\n",
    "Generate signature\n",
    "\"\"\"\n",
    "composite_key = urllib2.quote(consumer_secret, safe='') + concat\n",
    "oauth_signature = b64encode(hmac.new(b'composite_key', b'signature_base_str', hashlib.sha1).digest())\n",
    "\n",
    "\"\"\"\n",
    "Prepare Authorization header\n",
    "\"\"\"\n",
    "oauth['oauth_signature'] = oauth_signature\n",
    "auth_header = 'OAuth ' + ', '.join(['{}=\"{}\"'.format(k,v) for k,v in oauth.items()])\n",
    "\n",
    "\"\"\"\n",
    "Send request\n",
    "\"\"\"\n",
    "url = url + '?' + urlencode(query, quote_via=quote_plus)\n",
    "request = urllib2.Request(url)\n",
    "request.add_header('Authorization', auth_header)\n",
    "request.add_header('X-Yahoo-App-Id', app_id)\n",
    "response = urllib2.urlopen(request).read()\n"
   ]
  }
 ],
 "metadata": {
  "kernelspec": {
   "display_name": "Python 3",
   "language": "python",
   "name": "python3"
  },
  "language_info": {
   "codemirror_mode": {
    "name": "ipython",
    "version": 3
   },
   "file_extension": ".py",
   "mimetype": "text/x-python",
   "name": "python",
   "nbconvert_exporter": "python",
   "pygments_lexer": "ipython3",
   "version": "3.7.1"
  }
 },
 "nbformat": 4,
 "nbformat_minor": 2
}
